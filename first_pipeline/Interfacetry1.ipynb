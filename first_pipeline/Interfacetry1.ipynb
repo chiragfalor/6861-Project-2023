{
 "cells": [
  {
   "cell_type": "code",
   "execution_count": 1,
   "metadata": {},
   "outputs": [],
   "source": [
    "import openai\n",
    "\n",
    "with open(\"../openai_api_key.txt\", \"r\") as f:\n",
    "    api_key = f.read()\n",
    "\n",
    "openai.api_key = api_key\n",
    "\n",
    "model = \"gpt-3.5-turbo\"\n",
    "\n",
    "# ENGINE = \"code-davinci-002\"\n",
    "# MAX_TOKENS = 512\n",
    "# N_SAMPLES = 1\n",
    "# TEMPERATURE = 0.0\n",
    "# STOP = \"/**\""
   ]
  },
  {
   "cell_type": "code",
   "execution_count": null,
   "metadata": {},
   "outputs": [],
   "source": [
    "RANDOM_SEED = 123\n"
   ]
  }
 ],
 "metadata": {
  "kernelspec": {
   "display_name": "jlab813env",
   "language": "python",
   "name": "python3"
  },
  "language_info": {
   "codemirror_mode": {
    "name": "ipython",
    "version": 3
   },
   "file_extension": ".py",
   "mimetype": "text/x-python",
   "name": "python",
   "nbconvert_exporter": "python",
   "pygments_lexer": "ipython3",
   "version": "3.11.0"
  }
 },
 "nbformat": 4,
 "nbformat_minor": 2
}
