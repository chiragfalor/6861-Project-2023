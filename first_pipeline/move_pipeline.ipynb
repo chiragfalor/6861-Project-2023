{
 "cells": [
  {
   "cell_type": "code",
   "execution_count": 1,
   "metadata": {},
   "outputs": [],
   "source": [
    "from data_load import load_query_games, load_query_games, load_system_prompt\n",
    "from utils import get_model_response\n",
    "import pandas as pd"
   ]
  },
  {
   "cell_type": "code",
   "execution_count": 2,
   "metadata": {},
   "outputs": [],
   "source": [
    "def get_move_message(game, task_id, move_num):\n",
    "    messages = []\n",
    "    task = game.tasks[task_id]\n",
    "    query_list = task['query_list']\n",
    "\n",
    "    messages = []\n",
    "\n",
    "    messages.append({\"role\": \"system\", \"content\": load_system_prompt('new_system_prompt.txt')})\n",
    "    messages.append({\"role\": \"user\", \"content\": f\"Name: {game.name}\\nDescription: {game.description}\"})\n",
    "    messages.append({\"role\": \"assistant\", \"content\": game.code})\n",
    "\n",
    "    \n",
    "    messages.append({\"role\": \"system\", \"content\": load_system_prompt('query_prompt.txt')})\n",
    "    for i in range(move_num):\n",
    "        messages.append({\"role\": \"user\", \"content\": query_list[i].text})\n",
    "        messages.append({\"role\": \"assistant\", \"content\": query_list[i].code})\n",
    "\n",
    "    messages.append({\"role\": \"user\", \"content\": query_list[move_num].text})\n",
    "\n",
    "    return messages\n",
    "\n"
   ]
  },
  {
   "cell_type": "code",
   "execution_count": 12,
   "metadata": {},
   "outputs": [],
   "source": [
    "def get_model_move_responses_df(game, task_id):\n",
    "    task = game.tasks[task_id]\n",
    "    TOTAL_MOVES = len(task['query_list'])\n",
    "\n",
    "    responses = []\n",
    "    answers = []\n",
    "    query = []\n",
    "    for move_num in range(TOTAL_MOVES):\n",
    "        model_response = get_model_response(get_move_message(game, task_id, move_num))\n",
    "        responses.append(model_response)\n",
    "        answers.append(task['query_list'][move_num].code)\n",
    "        query.append(task['query_list'][move_num].text)\n",
    "\n",
    "    # make dataframe\n",
    "    df = pd.DataFrame()\n",
    "    df['responses'] = responses\n",
    "    df['answers'] = answers\n",
    "    df['query'] = query\n",
    "    df['game_name'] = game.tag\n",
    "    df['task_id'] = task_id\n",
    "\n",
    "    return df\n",
    "    "
   ]
  },
  {
   "cell_type": "code",
   "execution_count": 13,
   "metadata": {},
   "outputs": [],
   "source": [
    "def get_game_responses_df(game):\n",
    "    TOTAL_TASKS = len(game.tasks)\n",
    "    dfs = [get_model_move_responses_df(game, task_id) for task_id in range(TOTAL_TASKS)]\n",
    "    df = pd.concat(dfs)\n",
    "    return df"
   ]
  },
  {
   "cell_type": "code",
   "execution_count": 14,
   "metadata": {},
   "outputs": [
    {
     "name": "stdout",
     "output_type": "stream",
     "text": [
      "Processing asimplegame\n",
      "Processing tictactoe3d\n",
      "Processing achi\n",
      "Processing doguti\n"
     ]
    }
   ],
   "source": [
    "for game in load_query_games():\n",
    "    print(f\"Processing {game.tag}\")\n",
    "    df = get_game_responses_df(game)\n",
    "    df.to_csv(f'./data/predicted_move_code/{game.tag}.csv', index=False)"
   ]
  },
  {
   "cell_type": "code",
   "execution_count": null,
   "metadata": {},
   "outputs": [],
   "source": []
  },
  {
   "cell_type": "code",
   "execution_count": null,
   "metadata": {},
   "outputs": [],
   "source": []
  },
  {
   "cell_type": "code",
   "execution_count": null,
   "metadata": {},
   "outputs": [],
   "source": []
  }
 ],
 "metadata": {
  "kernelspec": {
   "display_name": "jlab813env",
   "language": "python",
   "name": "python3"
  },
  "language_info": {
   "codemirror_mode": {
    "name": "ipython",
    "version": 3
   },
   "file_extension": ".py",
   "mimetype": "text/x-python",
   "name": "python",
   "nbconvert_exporter": "python",
   "pygments_lexer": "ipython3",
   "version": "3.11.0"
  }
 },
 "nbformat": 4,
 "nbformat_minor": 2
}
