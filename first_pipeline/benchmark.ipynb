{
 "cells": [
  {
   "cell_type": "code",
   "execution_count": 1,
   "metadata": {},
   "outputs": [],
   "source": [
    "import pandas as pd"
   ]
  },
  {
   "cell_type": "code",
   "execution_count": 2,
   "metadata": {},
   "outputs": [],
   "source": [
    "import openai\n",
    "\n",
    "with open(\"../openai_api_key.txt\", \"r\") as f:\n",
    "    api_key = f.read()\n",
    "\n",
    "# openai.api_key = api_key\n",
    "\n",
    "GPT_model = \"gpt-3.5-turbo\""
   ]
  },
  {
   "cell_type": "code",
   "execution_count": 3,
   "metadata": {},
   "outputs": [],
   "source": [
    "RANDOM_SEED = 123\n",
    "\n",
    "client = openai.Client(api_key=api_key)"
   ]
  },
  {
   "cell_type": "code",
   "execution_count": 4,
   "metadata": {},
   "outputs": [],
   "source": [
    "# read descriptions from json file\n",
    "from data_load import load_games, load_system_prompt\n",
    "\n",
    "games = load_games()\n",
    "system_prompt = load_system_prompt('benchmark_prompt.txt')"
   ]
  },
  {
   "cell_type": "code",
   "execution_count": 5,
   "metadata": {},
   "outputs": [],
   "source": [
    "def get_model_response(message):\n",
    "    completion = client.chat.completions.create(\n",
    "    model=GPT_model,\n",
    "    seed=RANDOM_SEED,\n",
    "    messages=message,\n",
    "    )\n",
    "    return completion.choices[0].message.content"
   ]
  },
  {
   "cell_type": "code",
   "execution_count": 22,
   "metadata": {},
   "outputs": [
    {
     "name": "stdout",
     "output_type": "stream",
     "text": [
      "[{'role': 'system', 'content': \"You are an assistant answering queries about games. The user will first give you the game description, then a list of moves that each player makes. The user will then ask you questions about the game. Your task is to answer the user's questions about the game given the game description and list of moves.\"}, {'role': 'user', 'content': \"Two concentric squares with a line connecting their midpoints. Six pieces per player. Players alternate placing one of their pieces on the intersections of the lines. Whenever a player places three of their pieces in a row, they may remove one of the opponent's pieces from the board. Once all of the pieces are placed, players may take turns moving a piece to an adjacent point along the lines, attempting to place three of their pieces in a row. When one player is reduced to two pieces, that player loses.\"}, {'role': 'user', 'content': 'Player 1 places their piece on the upper right corner of the outer square.'}, {'role': 'user', 'content': 'Player 2 places their piece on the middle point of the upper side of the inner square.'}, {'role': 'user', 'content': 'Player 1 places their piece on the middle point of the right side of the outer square.'}, {'role': 'user', 'content': 'Player 2 places their piece on the middle point of the lower side of the outer square.'}, {'role': 'user', 'content': 'Player 1 places their piece on the lower right corner of the outer square.'}, {'role': 'user', 'content': \"Player 1 want to capture player 2's piece on the middle point of the upper side of the inner square. Is this a valid move?\"}]\n",
      "[{'role': 'system', 'content': \"You are an assistant answering queries about games. The user will first give you the game description, then a list of moves that each player makes. The user will then ask you questions about the game. Your task is to answer the user's questions about the game given the game description and list of moves.\"}, {'role': 'user', 'content': \"Two concentric squares with a line connecting their midpoints. Six pieces per player. Players alternate placing one of their pieces on the intersections of the lines. Whenever a player places three of their pieces in a row, they may remove one of the opponent's pieces from the board. Once all of the pieces are placed, players may take turns moving a piece to an adjacent point along the lines, attempting to place three of their pieces in a row. When one player is reduced to two pieces, that player loses.\"}, {'role': 'user', 'content': 'Player 1 places their piece on the upper left corner of the outer square.'}, {'role': 'user', 'content': 'Player 2 places their piece on the lower left corner of the outer square.'}, {'role': 'user', 'content': 'Player 1 places their piece on the middle point of the upper side of the inner square.'}, {'role': 'user', 'content': 'Player 2 places their piece on the lower right corner of the inner square.'}, {'role': 'user', 'content': 'Player 1 places their piece on the middle point of the left side of the inner square.'}, {'role': 'user', 'content': 'Player 2 wants to place their piece on the upper left corner of the outer square. Is this a valid move?'}]\n",
      "[{'role': 'system', 'content': \"You are an assistant answering queries about games. The user will first give you the game description, then a list of moves that each player makes. The user will then ask you questions about the game. Your task is to answer the user's questions about the game given the game description and list of moves.\"}, {'role': 'user', 'content': \"Two concentric squares with a line connecting their midpoints. Six pieces per player. Players alternate placing one of their pieces on the intersections of the lines. Whenever a player places three of their pieces in a row, they may remove one of the opponent's pieces from the board. Once all of the pieces are placed, players may take turns moving a piece to an adjacent point along the lines, attempting to place three of their pieces in a row. When one player is reduced to two pieces, that player loses.\"}, {'role': 'user', 'content': 'Player 1 places their piece on the upper right corner of the outer square.'}, {'role': 'user', 'content': 'Player 2 places their piece on the upper right corner of the inner square.'}, {'role': 'user', 'content': 'Player 1 places their piece on the middle point of the right side of the outer square.'}, {'role': 'user', 'content': 'Player 2 places their piece on the middle point of the right side of the inner square.'}, {'role': 'user', 'content': 'Player 1 places their piece on the lower right corner of the outer square.'}, {'role': 'user', 'content': \"Player 1 captures player 2's piece on the middle point of the right side of the inner square.\"}, {'role': 'user', 'content': 'Player 2 wants to place their piece on the middle point of the right side of the inner square. Is this a valid move?'}]\n",
      "[{'role': 'system', 'content': \"You are an assistant answering queries about games. The user will first give you the game description, then a list of moves that each player makes. The user will then ask you questions about the game. Your task is to answer the user's questions about the game given the game description and list of moves.\"}, {'role': 'user', 'content': \"Two concentric squares with a line connecting their midpoints. Six pieces per player. Players alternate placing one of their pieces on the intersections of the lines. Whenever a player places three of their pieces in a row, they may remove one of the opponent's pieces from the board. Once all of the pieces are placed, players may take turns moving a piece to an adjacent point along the lines, attempting to place three of their pieces in a row. When one player is reduced to two pieces, that player loses.\"}, {'role': 'user', 'content': 'Player 1 places their piece on the upper right corner of the outer square.'}, {'role': 'user', 'content': 'Player 2 places their piece on the middle point of the right side of the outer square.'}, {'role': 'user', 'content': 'Player 1 places their piece on the lower right corner of the outer square.'}, {'role': 'user', 'content': 'Player 2 places their piece on the upper left corner of the outer square.'}, {'role': 'user', 'content': 'Player 1 places their piece on the middle point of the lower side of the inner square.'}, {'role': 'user', 'content': 'Player 2 places their piece on the upper right corner of the inner square.'}, {'role': 'user', 'content': 'Player 1 places their piece on the lower left corner of the outer square.'}, {'role': 'user', 'content': 'Player 2 places their piece on the middle point of the lower side of the outer square.'}, {'role': 'user', 'content': 'Player 1 places their piece on the middle point of the upper side of the outer square.'}, {'role': 'user', 'content': 'Player 2 places their piece on the lower right corner of the inner square.'}, {'role': 'user', 'content': 'Player 1 places their piece on the upper left corner of the inner square.'}, {'role': 'user', 'content': 'Player 2 places their piece on the middle point of the left side of the outer square.'}, {'role': 'user', 'content': 'Player 1 moves their piece from the upper left corner of the inner square to the middle point of the left side of the inner square.'}, {'role': 'user', 'content': 'Player 2 want to moves their piece from the middle point of the right side of the outer square to the middle point of the right side of the inner square. Is this a valid move?'}]\n"
     ]
    }
   ],
   "source": [
    "game = games[4]\n",
    "path_name = game.code_file_path.split('/')[-1]\n",
    "game_tag = path_name[:-4]\n",
    "df = pd.read_csv(f'data/game_condition_query/{game_tag}.csv')\n",
    "df = df[df.columns[1:]]\n",
    "n_phrases_language = len(list(filter(lambda col_name: \"language_phrase_\" in col_name, df.columns)))\n",
    "N_PHRASES = n_phrases_language\n",
    "\n",
    "model_response = []\n",
    "for _, row in df.iterrows():\n",
    "    messages = []\n",
    "    messages.append({\"role\": \"system\", \"content\": system_prompt})\n",
    "    messages.append({\"role\": \"user\", \"content\": game.description})\n",
    "    for i in range(1, N_PHRASES + 1):\n",
    "        if not pd.isna(row[f\"language_phrase_{i}\"]):\n",
    "            messages.append({\"role\": \"user\", \"content\": row[f\"language_phrase_{i}\"]})\n",
    "    messages.append({\"role\": \"user\", \"content\": row[\"question_sentence\"]})\n",
    "    model_response.append(get_model_response(messages))\n",
    "\n",
    "output_df = df[['task_id', 'answer']].copy()\n",
    "output_df['model_answer'] = model_response\n",
    "output_df.to_csv(f'data/benchmark_output/{game_tag}.csv')"
   ]
  },
  {
   "cell_type": "code",
   "execution_count": null,
   "metadata": {},
   "outputs": [],
   "source": []
  }
 ],
 "metadata": {
  "kernelspec": {
   "display_name": "Python 3.10.7 64-bit",
   "language": "python",
   "name": "python3"
  },
  "language_info": {
   "codemirror_mode": {
    "name": "ipython",
    "version": 3
   },
   "file_extension": ".py",
   "mimetype": "text/x-python",
   "name": "python",
   "nbconvert_exporter": "python",
   "pygments_lexer": "ipython3",
   "version": "3.10.7"
  },
  "orig_nbformat": 4,
  "vscode": {
   "interpreter": {
    "hash": "aee8b7b246df8f9039afb4144a1f6fd8d2ca17a180786b69acc140d282b71a49"
   }
  }
 },
 "nbformat": 4,
 "nbformat_minor": 2
}
