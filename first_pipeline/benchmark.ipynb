{
 "cells": [
  {
   "cell_type": "code",
   "execution_count": 1,
   "metadata": {},
   "outputs": [],
   "source": [
    "import pandas as pd"
   ]
  },
  {
   "cell_type": "code",
   "execution_count": 2,
   "metadata": {},
   "outputs": [],
   "source": [
    "import openai\n",
    "\n",
    "with open(\"../openai_api_key.txt\", \"r\") as f:\n",
    "    api_key = f.read()\n",
    "\n",
    "# openai.api_key = api_key\n",
    "\n",
    "# GPT_model = \"gpt-3.5-turbo\"\n",
    "GPT_model = \"gpt-4\""
   ]
  },
  {
   "cell_type": "code",
   "execution_count": 7,
   "metadata": {},
   "outputs": [],
   "source": [
    "RANDOM_SEED = 123\n",
    "\n",
    "client = openai.Client(api_key=api_key)"
   ]
  },
  {
   "cell_type": "code",
   "execution_count": 8,
   "metadata": {},
   "outputs": [],
   "source": [
    "# read descriptions from json file\n",
    "from data_load import load_games, load_system_prompt, load_query_games\n",
    "\n",
    "games = load_query_games()\n",
    "system_prompt = load_system_prompt('benchmark_prompt.txt')"
   ]
  },
  {
   "cell_type": "code",
   "execution_count": 9,
   "metadata": {},
   "outputs": [],
   "source": [
    "def get_model_response(message):\n",
    "    completion = client.chat.completions.create(\n",
    "    model=GPT_model,\n",
    "    seed=RANDOM_SEED,\n",
    "    messages=message,\n",
    "    )\n",
    "    return completion.choices[0].message.content"
   ]
  },
  {
   "cell_type": "code",
   "execution_count": null,
   "metadata": {},
   "outputs": [],
   "source": []
  },
  {
   "cell_type": "code",
   "execution_count": 6,
   "metadata": {},
   "outputs": [],
   "source": [
    "for game in games:\n",
    "    path_name = game.code_file_path.split('/')[-1]\n",
    "    game_tag = path_name[:-4]\n",
    "    df = pd.read_csv(f'data/game_condition_query/{game_tag}.csv')\n",
    "    df = df[df.columns[1:]]\n",
    "    n_phrases_language = len(list(filter(lambda col_name: \"language_phrase_\" in col_name, df.columns)))\n",
    "    N_PHRASES = n_phrases_language\n",
    "\n",
    "    model_response = []\n",
    "    for _, row in df.iterrows():\n",
    "        messages = []\n",
    "        messages.append({\"role\": \"system\", \"content\": system_prompt})\n",
    "        messages.append({\"role\": \"user\", \"content\": game.description})\n",
    "        for i in range(1, N_PHRASES + 1):\n",
    "            if not pd.isna(row[f\"language_phrase_{i}\"]):\n",
    "                messages.append({\"role\": \"user\", \"content\": row[f\"language_phrase_{i}\"]})\n",
    "        messages.append({\"role\": \"user\", \"content\": row[\"question_sentence\"]})\n",
    "        model_response.append(get_model_response(messages))\n",
    "\n",
    "    output_df = df[['task_id', 'answer']].copy()\n",
    "    output_df['model_answer'] = model_response\n",
    "    output_df.to_csv(f'{GPT_model}_predictions/benchmark/{game_tag}.csv')"
   ]
  },
  {
   "cell_type": "code",
   "execution_count": null,
   "metadata": {},
   "outputs": [],
   "source": []
  }
 ],
 "metadata": {
  "kernelspec": {
   "display_name": "Python 3.10.7 64-bit",
   "language": "python",
   "name": "python3"
  },
  "language_info": {
   "codemirror_mode": {
    "name": "ipython",
    "version": 3
   },
   "file_extension": ".py",
   "mimetype": "text/x-python",
   "name": "python",
   "nbconvert_exporter": "python",
   "pygments_lexer": "ipython3",
   "version": "3.11.0"
  },
  "orig_nbformat": 4,
  "vscode": {
   "interpreter": {
    "hash": "aee8b7b246df8f9039afb4144a1f6fd8d2ca17a180786b69acc140d282b71a49"
   }
  }
 },
 "nbformat": 4,
 "nbformat_minor": 2
}
