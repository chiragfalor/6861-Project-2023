{
 "cells": [
  {
   "cell_type": "code",
   "execution_count": 1,
   "metadata": {},
   "outputs": [],
   "source": [
    "from data_load import load_query_games, load_query_games, load_system_prompt\n",
    "from utils import get_model_response, GPT_model\n",
    "import pandas as pd\n",
    "import os"
   ]
  },
  {
   "cell_type": "code",
   "execution_count": 2,
   "metadata": {},
   "outputs": [],
   "source": [
    "def get_all_task_messages(game, task_id):\n",
    "    messages = []\n",
    "    task = game.tasks[task_id]\n",
    "    query_list = task['query_list']\n",
    "\n",
    "    messages = []\n",
    "\n",
    "    messages.append({\"role\": \"system\", \"content\": load_system_prompt('new_system_prompt.txt')})\n",
    "    messages.append({\"role\": \"user\", \"content\": f\"Name: {game.name}\\nDescription: {game.description}\"})\n",
    "    messages.append({\"role\": \"assistant\", \"content\": game.code})\n",
    "\n",
    "    \n",
    "    messages.append({\"role\": \"system\", \"content\": load_system_prompt('query_prompt.txt')})\n",
    "\n",
    "    for query in query_list:\n",
    "        messages.append({\"role\": \"user\", \"content\": query.text})\n",
    "        messages.append({\"role\": \"assistant\", \"content\": query.code})\n",
    "\n",
    "    messages.append({\"role\": \"system\", \"content\": load_system_prompt('answer_prompt.txt')})\n",
    "    messages.append({\"role\": \"user\", \"content\": task['query']})\n",
    "\n",
    "    return messages\n",
    "\n"
   ]
  },
  {
   "cell_type": "code",
   "execution_count": 3,
   "metadata": {},
   "outputs": [
    {
     "name": "stdout",
     "output_type": "stream",
     "text": [
      "asimplegame is being processed..\n",
      "gpt-4_predictions/moves_to_query/asimplegame.csv\n",
      "tictactoe3d is being processed..\n",
      "gpt-4_predictions/moves_to_query/tictactoe3d.csv\n",
      "achi is being processed..\n",
      "gpt-4_predictions/moves_to_query/achi.csv\n",
      "doguti is being processed..\n",
      "gpt-4_predictions/moves_to_query/doguti.csv\n"
     ]
    }
   ],
   "source": [
    "games = load_query_games()\n",
    "dir_path = f'{GPT_model}_predictions/moves_to_query/'\n",
    "if not os.path.exists(dir_path):\n",
    "    os.makedirs(dir_path)\n",
    "for game in games:\n",
    "    game_name = game.tag\n",
    "    print(f\"{game_name} is being processed..\")\n",
    "    save_path = f'{dir_path}{game_name}.csv'\n",
    "    print(save_path)\n",
    "    model_response = []\n",
    "    answers = []\n",
    "    task_ids = []\n",
    "    for task_id in range(len(game.tasks)):\n",
    "        messages = get_all_task_messages(game, task_id)\n",
    "        model_response.append(get_model_response(messages))\n",
    "        answers.append(game.tasks[task_id]['answer'])\n",
    "        task_ids.append(task_id)\n",
    "    df = pd.DataFrame({'model_response': model_response, 'answer': answers})\n",
    "    df.to_csv(save_path, index=False)"
   ]
  },
  {
   "cell_type": "code",
   "execution_count": null,
   "metadata": {},
   "outputs": [],
   "source": []
  }
 ],
 "metadata": {
  "kernelspec": {
   "display_name": "jlab813env",
   "language": "python",
   "name": "python3"
  },
  "language_info": {
   "codemirror_mode": {
    "name": "ipython",
    "version": 3
   },
   "file_extension": ".py",
   "mimetype": "text/x-python",
   "name": "python",
   "nbconvert_exporter": "python",
   "pygments_lexer": "ipython3",
   "version": "3.11.0"
  }
 },
 "nbformat": 4,
 "nbformat_minor": 2
}
