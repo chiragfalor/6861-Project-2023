{
 "cells": [
  {
   "cell_type": "code",
   "execution_count": 1,
   "metadata": {},
   "outputs": [],
   "source": [
    "from data_load import load_query_games, load_query_games, load_system_prompt\n",
    "from utils import get_model_response\n",
    "import pandas as pd"
   ]
  },
  {
   "cell_type": "code",
   "execution_count": 2,
   "metadata": {},
   "outputs": [],
   "source": [
    "games = load_query_games()\n",
    "sg = games[0]"
   ]
  },
  {
   "cell_type": "code",
   "execution_count": 3,
   "metadata": {},
   "outputs": [
    {
     "name": "stdout",
     "output_type": "stream",
     "text": [
      "['all_moves', 'query', 'query_code', 'answer', 'lang_phrase_list', 'code_phrase_list', 'query_list']\n",
      "[Text: Player 1 moves their piece from 1st row, 4th column to 2nd row, 4th column.\n",
      "Code: (Move D4-D3), Text: Player 2 moves their piece from 1st row, 3rd column to 1st row, 4th column.\n",
      "Code: (Move C4-D4), Text: Player 1 moves their piece from 1st row, 2nd column to 2nd row, 2nd column.\n",
      "Code: (Move B4-B3), Text: Player 2 moves their piece from 4th row, 2nd column to 3rd row, 2nd column.\n",
      "Code: (Move B1-B2), Text: Player 1 moves their piece from 4th row, 3rd column to 3rd row, 3rd column.\n",
      "Code: (Move C1-C2), Text: Player 2 moves their piece from 4th row, 4th column to 3rd row, 4th column.\n",
      "Code: (Move D1-D2), Text: Player 1 moves their piece from 3rd row, 3rd column to 2nd row, 3rd column.\n",
      "Code: (Move C2-C3)]\n",
      "who wins?\n",
      "Player 1 wins because three of their pieces form a line on the 2nd row.\n"
     ]
    }
   ],
   "source": [
    "t = sg.tasks[0]\n",
    "print(list(t.keys()))\n",
    "print(t['query_list'])\n",
    "print(t['query'])\n",
    "print(t['answer'])\n"
   ]
  },
  {
   "cell_type": "code",
   "execution_count": 4,
   "metadata": {},
   "outputs": [],
   "source": [
    "def get_all_task_messages(game, task_id):\n",
    "    messages = []\n",
    "    task = game.tasks[task_id]\n",
    "    query_list = task['query_list']\n",
    "\n",
    "    messages = []\n",
    "\n",
    "    messages.append({\"role\": \"system\", \"content\": load_system_prompt('new_system_prompt.txt')})\n",
    "    messages.append({\"role\": \"user\", \"content\": f\"Name: {game.name}\\nDescription: {game.description}\"})\n",
    "    messages.append({\"role\": \"assistant\", \"content\": game.code})\n",
    "\n",
    "    \n",
    "    messages.append({\"role\": \"system\", \"content\": load_system_prompt('query_prompt.txt')})\n",
    "\n",
    "    for query in query_list:\n",
    "        messages.append({\"role\": \"user\", \"content\": query.text})\n",
    "        messages.append({\"role\": \"assistant\", \"content\": query.code})\n",
    "\n",
    "    messages.append({\"role\": \"system\", \"content\": load_system_prompt('answer_prompt.txt')})\n",
    "    messages.append({\"role\": \"user\", \"content\": task['query']})\n",
    "\n",
    "    return messages\n",
    "\n"
   ]
  },
  {
   "cell_type": "code",
   "execution_count": 9,
   "metadata": {},
   "outputs": [
    {
     "name": "stdout",
     "output_type": "stream",
     "text": [
      "asimplegame is being processed..\n",
      "tictactoe3d is being processed..\n",
      "achi is being processed..\n",
      "doguti is being processed..\n"
     ]
    }
   ],
   "source": [
    "for game in games:\n",
    "    game_name = game.tag\n",
    "    print(f\"{game_name} is being processed..\")\n",
    "    save_path = 'data/predicted_answer_model/' + game_name + '.csv'\n",
    "    model_response = []\n",
    "    answers = []\n",
    "    task_ids = []\n",
    "    for task_id in range(len(game.tasks)):\n",
    "        messages = get_all_task_messages(game, task_id)\n",
    "        model_response.append(get_model_response(messages))\n",
    "        answers.append(game.tasks[task_id]['answer'])\n",
    "        task_ids.append(task_id)\n",
    "    df = pd.DataFrame({'model_response': model_response, 'answer': answers})\n",
    "    df.to_csv(save_path, index=False)"
   ]
  },
  {
   "cell_type": "code",
   "execution_count": null,
   "metadata": {},
   "outputs": [],
   "source": []
  }
 ],
 "metadata": {
  "kernelspec": {
   "display_name": "jlab813env",
   "language": "python",
   "name": "python3"
  },
  "language_info": {
   "codemirror_mode": {
    "name": "ipython",
    "version": 3
   },
   "file_extension": ".py",
   "mimetype": "text/x-python",
   "name": "python",
   "nbconvert_exporter": "python",
   "pygments_lexer": "ipython3",
   "version": "3.11.0"
  }
 },
 "nbformat": 4,
 "nbformat_minor": 2
}
