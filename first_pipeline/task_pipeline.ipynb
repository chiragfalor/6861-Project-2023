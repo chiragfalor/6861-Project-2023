{
 "cells": [
  {
   "cell_type": "code",
   "execution_count": 2,
   "metadata": {},
   "outputs": [],
   "source": [
    "from data_load import load_games_with_tasks, load_system_prompt\n",
    "from utils import get_model_response, GPT_model\n",
    "import pandas as pd\n",
    "import os"
   ]
  },
  {
   "cell_type": "code",
   "execution_count": 3,
   "metadata": {},
   "outputs": [],
   "source": [
    "def get_all_task_messages(game, task_id):\n",
    "    messages = []\n",
    "    task = game.tasks[task_id]\n",
    "    move_list = task['query_list']\n",
    "\n",
    "    messages = []\n",
    "\n",
    "    messages.append({\"role\": \"system\", \"content\": load_system_prompt('desc_prompt.txt')})\n",
    "    messages.append({\"role\": \"user\", \"content\": f\"Name: {game.name}\\nDescription: {game.description}\"})\n",
    "    messages.append({\"role\": \"assistant\", \"content\": game.code})\n",
    "\n",
    "    \n",
    "    messages.append({\"role\": \"system\", \"content\": load_system_prompt('config_prompt.txt')})\n",
    "\n",
    "    for move in move_list:\n",
    "        messages.append({\"role\": \"user\", \"content\": move.text})\n",
    "        messages.append({\"role\": \"assistant\", \"content\": move.code})\n",
    "\n",
    "    messages.append({\"role\": \"system\", \"content\": load_system_prompt('query_prompt.txt')})\n",
    "    messages.append({\"role\": \"user\", \"content\": task['query']})\n",
    "\n",
    "    return messages\n",
    "\n"
   ]
  },
  {
   "cell_type": "code",
   "execution_count": 4,
   "metadata": {},
   "outputs": [
    {
     "name": "stdout",
     "output_type": "stream",
     "text": [
      "asimplegame is being processed..\n",
      "gpt-4_predictions/moves_to_query/asimplegame.csv\n",
      "tictactoe3d is being processed..\n",
      "gpt-4_predictions/moves_to_query/tictactoe3d.csv\n",
      "achi is being processed..\n",
      "gpt-4_predictions/moves_to_query/achi.csv\n",
      "doguti is being processed..\n",
      "gpt-4_predictions/moves_to_query/doguti.csv\n"
     ]
    }
   ],
   "source": [
    "games = load_games_with_tasks()\n",
    "dir_path = f'{GPT_model}_predictions/moves_to_query/'\n",
    "if not os.path.exists(dir_path):\n",
    "    os.makedirs(dir_path)\n",
    "for game in games:\n",
    "    game_name = game.tag\n",
    "    print(f\"{game_name} is being processed..\")\n",
    "    save_path = f'{dir_path}{game_name}.csv'\n",
    "    print(save_path)\n",
    "    model_response = []\n",
    "    answers = []\n",
    "    task_ids = []\n",
    "    queries = []\n",
    "    for task_id in range(len(game.tasks)):\n",
    "        messages = get_all_task_messages(game, task_id)\n",
    "        model_response.append(get_model_response(messages))\n",
    "        answers.append(game.tasks[task_id]['answer'])\n",
    "        queries.append(game.tasks[task_id]['query'])\n",
    "        task_ids.append(task_id)\n",
    "    df = pd.DataFrame({'model_response': model_response, 'answer': answers, 'query': queries})\n",
    "    df.to_csv(save_path, index=False)"
   ]
  },
  {
   "cell_type": "code",
   "execution_count": null,
   "metadata": {},
   "outputs": [],
   "source": []
  }
 ],
 "metadata": {
  "kernelspec": {
   "display_name": "Python 3.10.7 64-bit",
   "language": "python",
   "name": "python3"
  },
  "language_info": {
   "codemirror_mode": {
    "name": "ipython",
    "version": 3
   },
   "file_extension": ".py",
   "mimetype": "text/x-python",
   "name": "python",
   "nbconvert_exporter": "python",
   "pygments_lexer": "ipython3",
   "version": "3.11.0"
  },
  "vscode": {
   "interpreter": {
    "hash": "aee8b7b246df8f9039afb4144a1f6fd8d2ca17a180786b69acc140d282b71a49"
   }
  }
 },
 "nbformat": 4,
 "nbformat_minor": 2
}
