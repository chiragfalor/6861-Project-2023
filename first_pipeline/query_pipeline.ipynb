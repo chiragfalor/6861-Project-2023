{
 "cells": [
  {
   "cell_type": "code",
   "execution_count": 1,
   "metadata": {},
   "outputs": [],
   "source": [
    "from data_load import load_games, load_query_games, load_system_prompt"
   ]
  },
  {
   "cell_type": "code",
   "execution_count": 2,
   "metadata": {},
   "outputs": [],
   "source": [
    "from utils import get_model_response"
   ]
  },
  {
   "cell_type": "code",
   "execution_count": 6,
   "metadata": {},
   "outputs": [],
   "source": [
    "def get_query_zero_shot_response(game, task):\n",
    "    # do first query\n",
    "    query_list = task['query_list']\n",
    "\n",
    "    messages = []\n",
    "    \n",
    "    messages.append({\"role\": \"system\", \"content\": load_system_prompt('new_system_prompt.txt')})\n",
    "    messages.append({\"role\": \"user\", \"content\": f\"Name: {game.name}\\nDescription: {game.description}\"})\n",
    "    messages.append({\"role\": \"assistant\", \"content\": game.code})\n",
    "\n",
    "    messages.append({\"role\": \"system\", \"content\": load_system_prompt('query_prompt.txt')})\n",
    "    messages.append({\"role\": \"user\", \"content\": f\"Move: {query_list[0].text}\"})\n",
    "\n",
    "    return get_model_response(messages)\n"
   ]
  },
  {
   "cell_type": "code",
   "execution_count": 7,
   "metadata": {},
   "outputs": [],
   "source": [
    "games = load_query_games()\n",
    "sg = games[0]"
   ]
  },
  {
   "cell_type": "code",
   "execution_count": 8,
   "metadata": {},
   "outputs": [
    {
     "data": {
      "text/plain": [
       "'(move \"Ball1\" (step 0 3) (step 1 3))'"
      ]
     },
     "execution_count": 8,
     "metadata": {},
     "output_type": "execute_result"
    }
   ],
   "source": [
    "get_query_zero_shot_response(sg, sg.tasks[0])"
   ]
  },
  {
   "cell_type": "code",
   "execution_count": 9,
   "metadata": {},
   "outputs": [],
   "source": [
    "def get_query_few_shot_response(game, task, shots=3):\n",
    "    # do first query\n",
    "    query_list = task['query_list']\n",
    "\n",
    "    messages = []\n",
    "    \n",
    "    messages.append({\"role\": \"system\", \"content\": load_system_prompt('new_system_prompt.txt')})\n",
    "    messages.append({\"role\": \"user\", \"content\": f\"Name: {game.name}\\nDescription: {game.description}\"})\n",
    "    messages.append({\"role\": \"assistant\", \"content\": game.code})\n",
    "\n",
    "    messages.append({\"role\": \"system\", \"content\": load_system_prompt('query_prompt.txt')})\n",
    "    for i in range(shots):\n",
    "        messages.append({\"role\": \"user\", \"content\": f\"Move: {query_list[i].text}\"})\n",
    "        messages.append({\"role\": \"assistant\", \"content\": query_list[i].code})\n",
    "\n",
    "    messages.append({\"role\": \"user\", \"content\": f\"Move: {query_list[shots].text}\"})\n",
    "\n",
    "    return get_model_response(messages)"
   ]
  },
  {
   "cell_type": "code",
   "execution_count": 10,
   "metadata": {},
   "outputs": [
    {
     "name": "stdout",
     "output_type": "stream",
     "text": [
      "(Move B1-B2) (Move B1-B2)\n"
     ]
    }
   ],
   "source": [
    "predicted_code = get_query_few_shot_response(sg, sg.tasks[0], shots=3)\n",
    "actual_code = sg.tasks[0]['query_list'][3].code\n",
    "print(predicted_code, actual_code)"
   ]
  },
  {
   "cell_type": "code",
   "execution_count": null,
   "metadata": {},
   "outputs": [],
   "source": []
  }
 ],
 "metadata": {
  "kernelspec": {
   "display_name": "jlab813env",
   "language": "python",
   "name": "python3"
  },
  "language_info": {
   "codemirror_mode": {
    "name": "ipython",
    "version": 3
   },
   "file_extension": ".py",
   "mimetype": "text/x-python",
   "name": "python",
   "nbconvert_exporter": "python",
   "pygments_lexer": "ipython3",
   "version": "3.11.0"
  }
 },
 "nbformat": 4,
 "nbformat_minor": 2
}
