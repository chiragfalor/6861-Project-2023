{
 "cells": [
  {
   "cell_type": "code",
   "execution_count": 16,
   "metadata": {},
   "outputs": [],
   "source": [
    "from data_load import load_games_with_tasks, load_games_with_tasks, load_system_prompt, load_games\n",
    "from utils import get_model_response, GPT_model, get_message_with_example, get_desc_response\n",
    "import numpy as np\n",
    "import pandas as pd\n",
    "import os\n",
    "import random\n",
    "\n",
    "# seed random\n",
    "random.seed(42)\n",
    "\n",
    "# create directory for saving results\n",
    "result_dir = f\"{GPT_model}_selffed_results\"\n",
    "description_dir = f\"{result_dir}/descriptions\"\n",
    "move_dir = f\"{result_dir}/moves\"\n",
    "query_dir = f\"{result_dir}/query\"\n",
    "for directory in [result_dir, description_dir, move_dir, query_dir]:\n",
    "    if not os.path.exists(directory):\n",
    "        os.makedirs(directory)\n"
   ]
  },
  {
   "cell_type": "code",
   "execution_count": 2,
   "metadata": {},
   "outputs": [],
   "source": [
    "games_with_task = {game.tag: game for game in load_games_with_tasks()}"
   ]
  },
  {
   "cell_type": "markdown",
   "metadata": {},
   "source": [
    "# Getting the description"
   ]
  },
  {
   "cell_type": "code",
   "execution_count": 3,
   "metadata": {},
   "outputs": [],
   "source": [
    "desc_training_games = list(filter(lambda x: x.tag not in games_with_task, load_games()))\n",
    "# take random 10 games for description training\n",
    "desc_examples = random.sample(desc_training_games, 10)"
   ]
  },
  {
   "cell_type": "code",
   "execution_count": 4,
   "metadata": {},
   "outputs": [],
   "source": [
    "for game_tag, game in games_with_task.items():\n",
    "    predicted_code = get_desc_response(get_message_with_example, game, desc_examples)\n",
    "    game.self_fed_code = predicted_code # we save the predicted code in the game object\n",
    "    # save generated description in a file\n",
    "    with open(f\"{description_dir}/{game_tag}.txt\", \"w\") as f:\n",
    "        f.write(predicted_code)"
   ]
  },
  {
   "cell_type": "markdown",
   "metadata": {},
   "source": [
    "# Getting the code of the moves"
   ]
  },
  {
   "cell_type": "code",
   "execution_count": 5,
   "metadata": {},
   "outputs": [],
   "source": [
    "def get_self_fed_move_message(game, game_move_list, example_game, example_task_id):\n",
    "    messages = []\n",
    "\n",
    "    # put example desc, code, moves to train the model\n",
    "    messages.append({\"role\": \"system\", \"content\": load_system_prompt('desc_prompt.txt')})\n",
    "    messages.append({\"role\": \"user\", \"content\": f\"Name: {example_game.name}\\nDescription: {example_game.description}\"})\n",
    "    messages.append({\"role\": \"assistant\", \"content\": example_game.code})\n",
    "\n",
    "    # put example moves\n",
    "    example_move_list = example_game.tasks[example_task_id]['query_list']\n",
    "    messages.append({\"role\": \"system\", \"content\": load_system_prompt('config_prompt.txt')})\n",
    "    for move in example_move_list:\n",
    "        messages.append({\"role\": \"user\", \"content\": move.text})\n",
    "        messages.append({\"role\": \"assistant\", \"content\": move.code})\n",
    "\n",
    "    \n",
    "    # now put the actual desc, code, moves to get the response\n",
    "    messages.append({\"role\": \"system\", \"content\": load_system_prompt('desc_prompt.txt')})\n",
    "    messages.append({\"role\": \"user\", \"content\": f\"Name: {game.name}\\nDescription: {game.description}\"})\n",
    "    messages.append({\"role\": \"assistant\", \"content\": game.self_fed_code})\n",
    "    messages.append({\"role\": \"system\", \"content\": load_system_prompt('config_prompt.txt')})\n",
    "    for move in game_move_list[:-1]: # this will be updated as we get responses\n",
    "        messages.append({\"role\": \"user\", \"content\": move.text}) \n",
    "        messages.append({\"role\": \"assistant\", \"content\": move.code}) \n",
    "\n",
    "    # final message to get the response, last move is the one we want to predict\n",
    "    messages.append({\"role\": \"user\", \"content\": game_move_list[-1].text})\n",
    "\n",
    "    return messages\n",
    "\n"
   ]
  },
  {
   "cell_type": "code",
   "execution_count": 6,
   "metadata": {},
   "outputs": [],
   "source": [
    "def get_self_fed_move_responses_task(game, task_id, message_fn):\n",
    "    task = game.tasks[task_id]\n",
    "    actual_move_list = task['query_list']\n",
    "    TOTAL_MOVES = len(actual_move_list)\n",
    "\n",
    "    self_fed_move_list = []\n",
    "\n",
    "    responses = []\n",
    "    answers = []\n",
    "    query = []\n",
    "    for move_num in range(TOTAL_MOVES):\n",
    "        expected_move = actual_move_list[move_num]\n",
    "        expected_move.code = \"\"\n",
    "        self_fed_move_list.append(expected_move)\n",
    "        model_response = get_model_response(message_fn(game, self_fed_move_list))\n",
    "        responses.append(model_response)\n",
    "        answers.append(actual_move_list[move_num].code)\n",
    "        query.append(actual_move_list[move_num].text)\n",
    "\n",
    "        self_fed_move_list[-1].code = model_response\n",
    "\n",
    "    # make dataframe\n",
    "    df = pd.DataFrame({\n",
    "        'responses': responses,\n",
    "        'answers': answers,\n",
    "        'query': query,\n",
    "        'game_name': game.tag,\n",
    "        'task_id': task_id\n",
    "    })\n",
    "\n",
    "    task['self_fed_list'] = self_fed_move_list\n",
    "\n",
    "    return df\n",
    "\n",
    "def get_move_responses_df(game, message_fn):\n",
    "    TOTAL_TASKS = len(game.tasks)\n",
    "    dfs = []\n",
    "    dfs = [get_self_fed_move_responses_task(game, task_id, message_fn) for task_id in range(TOTAL_TASKS)]\n",
    "    df = pd.concat(dfs)\n",
    "    return df"
   ]
  },
  {
   "cell_type": "code",
   "execution_count": 7,
   "metadata": {},
   "outputs": [],
   "source": [
    "# use doguti as training data for moves\n",
    "doguti = games_with_task['doguti']\n",
    "\n",
    "move_message_fn = lambda game, move_list: get_self_fed_move_message(game, move_list, doguti, 0)"
   ]
  },
  {
   "cell_type": "code",
   "execution_count": 10,
   "metadata": {},
   "outputs": [
    {
     "name": "stdout",
     "output_type": "stream",
     "text": [
      "Saved asimplegame responses\n",
      "Saved tictactoe3d responses\n",
      "Saved achi responses\n"
     ]
    }
   ],
   "source": [
    "# get responses for all games\n",
    "for game_tag, game in games_with_task.items():\n",
    "    if game_tag == 'doguti':\n",
    "        continue\n",
    "    df = get_move_responses_df(game, move_message_fn)\n",
    "    df.to_csv(f\"{move_dir}/{game_tag}.csv\", index=False)\n",
    "    print(f\"Saved {game_tag} responses\")"
   ]
  },
  {
   "cell_type": "code",
   "execution_count": null,
   "metadata": {},
   "outputs": [],
   "source": []
  },
  {
   "cell_type": "markdown",
   "metadata": {},
   "source": [
    "# Getting the answer to queries"
   ]
  },
  {
   "cell_type": "code",
   "execution_count": 13,
   "metadata": {},
   "outputs": [],
   "source": [
    "def get_self_fed_query_messages(game, task_id):\n",
    "    messages = []\n",
    "    task = game.tasks[task_id]\n",
    "\n",
    "    messages.append({\"role\": \"system\", \"content\": load_system_prompt('desc_prompt.txt')})\n",
    "    messages.append({\"role\": \"user\", \"content\": f\"Name: {game.name}\\nDescription: {game.description}\"})\n",
    "    messages.append({\"role\": \"assistant\", \"content\": game.self_fed_code})\n",
    "\n",
    "    \n",
    "    messages.append({\"role\": \"system\", \"content\": load_system_prompt('config_prompt.txt')})\n",
    "\n",
    "    for move in task['self_fed_list']:\n",
    "        messages.append({\"role\": \"user\", \"content\": move.text})\n",
    "        messages.append({\"role\": \"assistant\", \"content\": move.code})\n",
    "\n",
    "    messages.append({\"role\": \"system\", \"content\": load_system_prompt('query_prompt.txt')})\n",
    "    messages.append({\"role\": \"user\", \"content\": task['query']})\n",
    "\n",
    "    return messages\n",
    "\n",
    "def get_task_response_df(game):\n",
    "    model_response = []\n",
    "    answers = []\n",
    "    queries = []\n",
    "    task_ids = []\n",
    "    for task_id in range(len(game.tasks)):\n",
    "        messages = get_self_fed_query_messages(game, task_id)\n",
    "        model_response.append(get_model_response(messages))\n",
    "        answers.append(game.tasks[task_id]['answer'])\n",
    "        queries.append(game.tasks[task_id]['query'])\n",
    "        task_ids.append(task_id)\n",
    "\n",
    "    df = pd.DataFrame({\"responses\": model_response, \"answers\": answers,\n",
    "                          \"queries\": queries})\n",
    "                                 \n",
    "    return df\n",
    "\n"
   ]
  },
  {
   "cell_type": "code",
   "execution_count": 17,
   "metadata": {},
   "outputs": [
    {
     "name": "stdout",
     "output_type": "stream",
     "text": [
      "Saved asimplegame responses\n",
      "Saved tictactoe3d responses\n",
      "Saved achi responses\n"
     ]
    },
    {
     "ename": "KeyError",
     "evalue": "'self_fed_list'",
     "output_type": "error",
     "traceback": [
      "\u001b[1;31m---------------------------------------------------------------------------\u001b[0m",
      "\u001b[1;31mKeyError\u001b[0m                                  Traceback (most recent call last)",
      "\u001b[1;32mc:\\Users\\cfalo\\OneDrive\\Desktop\\Github\\6861-Project-2023\\first_pipeline\\selffed_pipeline.ipynb Cell 14\u001b[0m line \u001b[0;36m2\n\u001b[0;32m      <a href='vscode-notebook-cell:/c%3A/Users/cfalo/OneDrive/Desktop/Github/6861-Project-2023/first_pipeline/selffed_pipeline.ipynb#X24sZmlsZQ%3D%3D?line=0'>1</a>\u001b[0m \u001b[39mfor\u001b[39;00m game_tag, game \u001b[39min\u001b[39;00m games_with_task\u001b[39m.\u001b[39mitems():\n\u001b[1;32m----> <a href='vscode-notebook-cell:/c%3A/Users/cfalo/OneDrive/Desktop/Github/6861-Project-2023/first_pipeline/selffed_pipeline.ipynb#X24sZmlsZQ%3D%3D?line=1'>2</a>\u001b[0m     df \u001b[39m=\u001b[39m get_task_response_df(game)\n\u001b[0;32m      <a href='vscode-notebook-cell:/c%3A/Users/cfalo/OneDrive/Desktop/Github/6861-Project-2023/first_pipeline/selffed_pipeline.ipynb#X24sZmlsZQ%3D%3D?line=2'>3</a>\u001b[0m     df\u001b[39m.\u001b[39mto_csv(\u001b[39mf\u001b[39m\u001b[39m\"\u001b[39m\u001b[39m{\u001b[39;00mquery_dir\u001b[39m}\u001b[39;00m\u001b[39m/\u001b[39m\u001b[39m{\u001b[39;00mgame_tag\u001b[39m}\u001b[39;00m\u001b[39m.csv\u001b[39m\u001b[39m\"\u001b[39m, index\u001b[39m=\u001b[39m\u001b[39mFalse\u001b[39;00m)\n\u001b[0;32m      <a href='vscode-notebook-cell:/c%3A/Users/cfalo/OneDrive/Desktop/Github/6861-Project-2023/first_pipeline/selffed_pipeline.ipynb#X24sZmlsZQ%3D%3D?line=3'>4</a>\u001b[0m     \u001b[39mprint\u001b[39m(\u001b[39mf\u001b[39m\u001b[39m\"\u001b[39m\u001b[39mSaved \u001b[39m\u001b[39m{\u001b[39;00mgame_tag\u001b[39m}\u001b[39;00m\u001b[39m responses\u001b[39m\u001b[39m\"\u001b[39m)\n",
      "\u001b[1;32mc:\\Users\\cfalo\\OneDrive\\Desktop\\Github\\6861-Project-2023\\first_pipeline\\selffed_pipeline.ipynb Cell 14\u001b[0m line \u001b[0;36m2\n\u001b[0;32m     <a href='vscode-notebook-cell:/c%3A/Users/cfalo/OneDrive/Desktop/Github/6861-Project-2023/first_pipeline/selffed_pipeline.ipynb#X24sZmlsZQ%3D%3D?line=24'>25</a>\u001b[0m task_ids \u001b[39m=\u001b[39m []\n\u001b[0;32m     <a href='vscode-notebook-cell:/c%3A/Users/cfalo/OneDrive/Desktop/Github/6861-Project-2023/first_pipeline/selffed_pipeline.ipynb#X24sZmlsZQ%3D%3D?line=25'>26</a>\u001b[0m \u001b[39mfor\u001b[39;00m task_id \u001b[39min\u001b[39;00m \u001b[39mrange\u001b[39m(\u001b[39mlen\u001b[39m(game\u001b[39m.\u001b[39mtasks)):\n\u001b[1;32m---> <a href='vscode-notebook-cell:/c%3A/Users/cfalo/OneDrive/Desktop/Github/6861-Project-2023/first_pipeline/selffed_pipeline.ipynb#X24sZmlsZQ%3D%3D?line=26'>27</a>\u001b[0m     messages \u001b[39m=\u001b[39m get_self_fed_query_messages(game, task_id)\n\u001b[0;32m     <a href='vscode-notebook-cell:/c%3A/Users/cfalo/OneDrive/Desktop/Github/6861-Project-2023/first_pipeline/selffed_pipeline.ipynb#X24sZmlsZQ%3D%3D?line=27'>28</a>\u001b[0m     model_response\u001b[39m.\u001b[39mappend(get_model_response(messages))\n\u001b[0;32m     <a href='vscode-notebook-cell:/c%3A/Users/cfalo/OneDrive/Desktop/Github/6861-Project-2023/first_pipeline/selffed_pipeline.ipynb#X24sZmlsZQ%3D%3D?line=28'>29</a>\u001b[0m     answers\u001b[39m.\u001b[39mappend(game\u001b[39m.\u001b[39mtasks[task_id][\u001b[39m'\u001b[39m\u001b[39manswer\u001b[39m\u001b[39m'\u001b[39m])\n",
      "\u001b[1;32mc:\\Users\\cfalo\\OneDrive\\Desktop\\Github\\6861-Project-2023\\first_pipeline\\selffed_pipeline.ipynb Cell 14\u001b[0m line \u001b[0;36m1\n\u001b[0;32m      <a href='vscode-notebook-cell:/c%3A/Users/cfalo/OneDrive/Desktop/Github/6861-Project-2023/first_pipeline/selffed_pipeline.ipynb#X24sZmlsZQ%3D%3D?line=6'>7</a>\u001b[0m messages\u001b[39m.\u001b[39mappend({\u001b[39m\"\u001b[39m\u001b[39mrole\u001b[39m\u001b[39m\"\u001b[39m: \u001b[39m\"\u001b[39m\u001b[39massistant\u001b[39m\u001b[39m\"\u001b[39m, \u001b[39m\"\u001b[39m\u001b[39mcontent\u001b[39m\u001b[39m\"\u001b[39m: game\u001b[39m.\u001b[39mself_fed_code})\n\u001b[0;32m     <a href='vscode-notebook-cell:/c%3A/Users/cfalo/OneDrive/Desktop/Github/6861-Project-2023/first_pipeline/selffed_pipeline.ipynb#X24sZmlsZQ%3D%3D?line=9'>10</a>\u001b[0m messages\u001b[39m.\u001b[39mappend({\u001b[39m\"\u001b[39m\u001b[39mrole\u001b[39m\u001b[39m\"\u001b[39m: \u001b[39m\"\u001b[39m\u001b[39msystem\u001b[39m\u001b[39m\"\u001b[39m, \u001b[39m\"\u001b[39m\u001b[39mcontent\u001b[39m\u001b[39m\"\u001b[39m: load_system_prompt(\u001b[39m'\u001b[39m\u001b[39mconfig_prompt.txt\u001b[39m\u001b[39m'\u001b[39m)})\n\u001b[1;32m---> <a href='vscode-notebook-cell:/c%3A/Users/cfalo/OneDrive/Desktop/Github/6861-Project-2023/first_pipeline/selffed_pipeline.ipynb#X24sZmlsZQ%3D%3D?line=11'>12</a>\u001b[0m \u001b[39mfor\u001b[39;00m move \u001b[39min\u001b[39;00m task[\u001b[39m'\u001b[39;49m\u001b[39mself_fed_list\u001b[39;49m\u001b[39m'\u001b[39;49m]:\n\u001b[0;32m     <a href='vscode-notebook-cell:/c%3A/Users/cfalo/OneDrive/Desktop/Github/6861-Project-2023/first_pipeline/selffed_pipeline.ipynb#X24sZmlsZQ%3D%3D?line=12'>13</a>\u001b[0m     messages\u001b[39m.\u001b[39mappend({\u001b[39m\"\u001b[39m\u001b[39mrole\u001b[39m\u001b[39m\"\u001b[39m: \u001b[39m\"\u001b[39m\u001b[39muser\u001b[39m\u001b[39m\"\u001b[39m, \u001b[39m\"\u001b[39m\u001b[39mcontent\u001b[39m\u001b[39m\"\u001b[39m: move\u001b[39m.\u001b[39mtext})\n\u001b[0;32m     <a href='vscode-notebook-cell:/c%3A/Users/cfalo/OneDrive/Desktop/Github/6861-Project-2023/first_pipeline/selffed_pipeline.ipynb#X24sZmlsZQ%3D%3D?line=13'>14</a>\u001b[0m     messages\u001b[39m.\u001b[39mappend({\u001b[39m\"\u001b[39m\u001b[39mrole\u001b[39m\u001b[39m\"\u001b[39m: \u001b[39m\"\u001b[39m\u001b[39massistant\u001b[39m\u001b[39m\"\u001b[39m, \u001b[39m\"\u001b[39m\u001b[39mcontent\u001b[39m\u001b[39m\"\u001b[39m: move\u001b[39m.\u001b[39mcode})\n",
      "\u001b[1;31mKeyError\u001b[0m: 'self_fed_list'"
     ]
    }
   ],
   "source": [
    "for game_tag, game in games_with_task.items():\n",
    "    df = get_task_response_df(game)\n",
    "    df.to_csv(f\"{query_dir}/{game_tag}.csv\", index=False)\n",
    "    print(f\"Saved {game_tag} responses\")"
   ]
  },
  {
   "cell_type": "code",
   "execution_count": null,
   "metadata": {},
   "outputs": [],
   "source": []
  }
 ],
 "metadata": {
  "kernelspec": {
   "display_name": "jlab813env",
   "language": "python",
   "name": "python3"
  },
  "language_info": {
   "codemirror_mode": {
    "name": "ipython",
    "version": 3
   },
   "file_extension": ".py",
   "mimetype": "text/x-python",
   "name": "python",
   "nbconvert_exporter": "python",
   "pygments_lexer": "ipython3",
   "version": "3.11.0"
  }
 },
 "nbformat": 4,
 "nbformat_minor": 2
}
