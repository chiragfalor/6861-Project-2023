{
 "cells": [
  {
   "cell_type": "code",
   "execution_count": 1,
   "metadata": {},
   "outputs": [],
   "source": [
    "\n",
    "import pandas as pd\n",
    "from GameModel import GameModel, GameEvent, GameQuery\n",
    "from data_load import load_games, load_query_games"
   ]
  },
  {
   "cell_type": "code",
   "execution_count": 2,
   "metadata": {},
   "outputs": [],
   "source": [
    "# load queries from data/game_condition_query.csv"
   ]
  },
  {
   "cell_type": "code",
   "execution_count": 3,
   "metadata": {},
   "outputs": [
    {
     "name": "stdout",
     "output_type": "stream",
     "text": [
      "[{'all_moves': 'Player 1 moves their piece from 1st row, 4th column to 2nd row, 4th column. Player 2 moves their piece from 1st row, 3rd column to 1st row, 4th column. Player 1 moves their piece from 1st row, 2nd column to 2nd row, 2nd column. Player 2 moves their piece from 4th row, 2nd column to 3rd row, 2nd column. Player 1 moves their piece from 4th row, 3rd column to 3rd row, 3rd column. Player 2 moves their piece from 4th row, 4th column to 3rd row, 4th column. Player 1 moves their piece from 3rd row, 3rd column to 2nd row, 3rd column.', 'query': 'who wins?', 'query_code': nan, 'answer': 'Player 1', 'lang_phrase_list': ['Player 1 moves their piece from 1st row, 4th column to 2nd row, 4th column.', 'Player 2 moves their piece from 1st row, 3rd column to 1st row, 4th column.', 'Player 1 moves their piece from 1st row, 2nd column to 2nd row, 2nd column.', 'Player 2 moves their piece from 4th row, 2nd column to 3rd row, 2nd column.', 'Player 1 moves their piece from 4th row, 3rd column to 3rd row, 3rd column.', 'Player 2 moves their piece from 4th row, 4th column to 3rd row, 4th column.', 'Player 1 moves their piece from 3rd row, 3rd column to 2nd row, 3rd column.'], 'code_phrase_list': ['(Move D4-D3)', '(Move C4-D4)', '(Move B4-B3)', '(Move B1-B2)', '(Move C1-C2)', '(Move D1-D2)', '(Move C2-C3)'], 'query_list': [Text: Player 1 moves their piece from 1st row, 4th column to 2nd row, 4th column.\n",
      "Code: (Move D4-D3), Text: Player 2 moves their piece from 1st row, 3rd column to 1st row, 4th column.\n",
      "Code: (Move C4-D4), Text: Player 1 moves their piece from 1st row, 2nd column to 2nd row, 2nd column.\n",
      "Code: (Move B4-B3), Text: Player 2 moves their piece from 4th row, 2nd column to 3rd row, 2nd column.\n",
      "Code: (Move B1-B2), Text: Player 1 moves their piece from 4th row, 3rd column to 3rd row, 3rd column.\n",
      "Code: (Move C1-C2), Text: Player 2 moves their piece from 4th row, 4th column to 3rd row, 4th column.\n",
      "Code: (Move D1-D2), Text: Player 1 moves their piece from 3rd row, 3rd column to 2nd row, 3rd column.\n",
      "Code: (Move C2-C3)]}, {'all_moves': 'Player 1 moves their piece from 4th row, 3rd column to 3rd row, 3rd column. Player 2 moves their piece from 1st row, 3rd column to 2nd row, 3rd column.Player 1 moves their piece from 1st row, 2nd column to 1st row, 3rd column.', 'query': 'Player 2 want to move their piece from 2nd row, 3rd column to 3rd row, 3rd column. Is this a valid move?', 'query_code': '(Move C3-C2)', 'answer': 'An invalid move', 'lang_phrase_list': ['Player 1 moves their piece from 4th row, 3rd column to 3rd row, 3rd column.', 'Player 2 moves their piece from 1st row, 3rd column to 2nd row, 3rd column.', 'Player 1 moves their piece from 1st row, 2nd column to 1st row, 3rd column.'], 'code_phrase_list': ['(Move C1-C2)', '(Move C4-C3)', '(Move B4-C4)'], 'query_list': [Text: Player 1 moves their piece from 4th row, 3rd column to 3rd row, 3rd column.\n",
      "Code: (Move C1-C2), Text: Player 2 moves their piece from 1st row, 3rd column to 2nd row, 3rd column.\n",
      "Code: (Move C4-C3), Text: Player 1 moves their piece from 1st row, 2nd column to 1st row, 3rd column.\n",
      "Code: (Move B4-C4)]}, {'all_moves': 'Player 1 moves their piece from 4th row, 3rd column to 3rd row, 3rd column. Player 2 moves their piece from 4th row, 2nd column to 3rd row, 2nd column. Player 1 moves their piece from 4th row, 1st column to 4th row, 2nd column.', 'query': 'Player 2 want to move their piece from 1st row, 3rd column to 2nd row, 3rd column. Is this a valid move?', 'query_code': '(Move C4-C3)', 'answer': 'A valid move', 'lang_phrase_list': ['Player 1 moves their piece from 4th row, 3rd column to 3rd row, 3rd column.', 'Player 2 moves their piece from 4th row, 2nd column to 3rd row, 2nd column.', 'Player 1 moves their piece from 4th row, 1st column to 4th row, 2nd column.'], 'code_phrase_list': ['(Move C1-C2)', '(Move B1-B2)', '(Move A1-B1)'], 'query_list': [Text: Player 1 moves their piece from 4th row, 3rd column to 3rd row, 3rd column.\n",
      "Code: (Move C1-C2), Text: Player 2 moves their piece from 4th row, 2nd column to 3rd row, 2nd column.\n",
      "Code: (Move B1-B2), Text: Player 1 moves their piece from 4th row, 1st column to 4th row, 2nd column.\n",
      "Code: (Move A1-B1)]}, {'all_moves': 'Player 1 moves their piece from 4th row, 3rd column to 3rd row, 3rd column. Player 2 moves their piece from 1st row, 3rd column to 2nd row, 3rd column. Player 1 moves their piece from 1st row, 4th column to 1st row, 3rd column. Player 2 moves their piece from 2nd row, 3rd column to 2nd row, 2nd column.', 'query': 'who wins?', 'query_code': nan, 'answer': 'No one', 'lang_phrase_list': ['Player 1 moves their piece from 4th row, 3rd column to 3rd row, 3rd column.', 'Player 2 moves their piece from 1st row, 3rd column to 2nd row, 3rd column.', 'Player 1 moves their piece from 1st row, 4th column to 1st row, 3rd column.', 'Player 2 moves their piece from 2nd row, 3rd column to 2nd row, 2nd column.'], 'code_phrase_list': ['(Move C1-C2)', '(Move C4-C3)', '(Move D4-C4)', '(Move C3-B3)'], 'query_list': [Text: Player 1 moves their piece from 4th row, 3rd column to 3rd row, 3rd column.\n",
      "Code: (Move C1-C2), Text: Player 2 moves their piece from 1st row, 3rd column to 2nd row, 3rd column.\n",
      "Code: (Move C4-C3), Text: Player 1 moves their piece from 1st row, 4th column to 1st row, 3rd column.\n",
      "Code: (Move D4-C4), Text: Player 2 moves their piece from 2nd row, 3rd column to 2nd row, 2nd column.\n",
      "Code: (Move C3-B3)]}]\n",
      "[Text: Player 1 moves their piece from 1st row, 4th column to 2nd row, 4th column.\n",
      "Code: (Move D4-D3), Text: Player 2 moves their piece from 1st row, 3rd column to 1st row, 4th column.\n",
      "Code: (Move C4-D4), Text: Player 1 moves their piece from 1st row, 2nd column to 2nd row, 2nd column.\n",
      "Code: (Move B4-B3), Text: Player 2 moves their piece from 4th row, 2nd column to 3rd row, 2nd column.\n",
      "Code: (Move B1-B2), Text: Player 1 moves their piece from 4th row, 3rd column to 3rd row, 3rd column.\n",
      "Code: (Move C1-C2), Text: Player 2 moves their piece from 4th row, 4th column to 3rd row, 4th column.\n",
      "Code: (Move D1-D2), Text: Player 1 moves their piece from 3rd row, 3rd column to 2nd row, 3rd column.\n",
      "Code: (Move C2-C3)]\n",
      "[{'all_moves': 'In the first turn, player O places their mark on the front slide, 1st row, 3rd column. In the second turn, player X places their mark on the middle slide, 2nd row, 3rd column. In the third turn, player O places their mark on the back slide, 1st row, 3rd column. In the fourth turn, player X places their mark on the back slide, 2nd row, 2nd column. In the fifth turn, player O places their mark on the middle slide, 1st row, 3rd column.', 'query': 'who wins?', 'query_code': nan, 'answer': 'player O', 'lang_phrase_list': ['In the first turn, player O places their mark on the front slide, 1st row, 3rd column.', 'In the second turn, player X places their mark on the middle slide, 2nd row, 3rd column.', 'In the third turn, player O places their mark on the back slide, 1st row, 3rd column.', 'In the fourth turn, player X places their mark on the back slide, 2nd row, 2nd column.', 'In the fifth turn, player O places their mark on the middle slide, 1st row, 3rd column.'], 'code_phrase_list': ['(Add Disc1 to C7)', '(Add Cross2 to C6)', '(Add Disc1 to C3)', '(Add Cross2 to B2)', '(Add Disc1 to C11)'], 'query_list': [Text: In the first turn, player O places their mark on the front slide, 1st row, 3rd column.\n",
      "Code: (Add Disc1 to C7), Text: In the second turn, player X places their mark on the middle slide, 2nd row, 3rd column.\n",
      "Code: (Add Cross2 to C6), Text: In the third turn, player O places their mark on the back slide, 1st row, 3rd column.\n",
      "Code: (Add Disc1 to C3), Text: In the fourth turn, player X places their mark on the back slide, 2nd row, 2nd column.\n",
      "Code: (Add Cross2 to B2), Text: In the fifth turn, player O places their mark on the middle slide, 1st row, 3rd column.\n",
      "Code: (Add Disc1 to C11)]}, {'all_moves': 'In the first turn, player O places their mark on the front slide, 1st row, 1st column. In the second turn, player X places their mark on the middle slide, 2nd row, 2nd column. In the third turn, player O places their mark on the middle slide, 1st row, 3rd column. In the fourth turn, player X places their mark on the back slide, 2nd row, 2nd column. In the fifth turn, player O places their mark on the front slide, 2nd row, 2nd column. In the sixth turn, player X places their mark on the middle slide, 1st row, 1st column. In the seventh turn, player O places their mark on the middle slide, 3rd row, 3rd column. In the eighth turn, player X places their mark on the back slide, 1st row, 2nd column.', 'query': 'who wins?', 'query_code': nan, 'answer': 'no one', 'lang_phrase_list': ['In the first turn, player O places their mark on the front slide, 1st row, 1st column.', 'In the second turn, player X places their mark on the middle slide, 2nd row, 2nd column.', 'In the third turn, player O places their mark on the middle slide, 1st row, 3rd column.', 'In the fourth turn, player X places their mark on the back slide, 2nd row, 2nd column.', 'In the fifth turn, player O places their mark on the front slide, 2nd row, 2nd column.', 'In the sixth turn, player X places their mark on the middle slide, 1st row, 1st column.', 'In the seventh turn, player O places their mark on the middle slide, 3rd row, 3rd column.', 'In the eighth turn, player X places their mark on the back slide, 1st row, 2nd column.'], 'code_phrase_list': ['(Add Disc1 to A11)', '(Add Cross2 to B6)', '(Add Disc1 to C7)', '(Add Cross2 to B2)', '(Add Disc1 to B10)', '(Add Cross2 to A7)', '(Add Disc1 to C5)', '(Add Cross2 to B3)'], 'query_list': [Text: In the first turn, player O places their mark on the front slide, 1st row, 1st column.\n",
      "Code: (Add Disc1 to A11), Text: In the second turn, player X places their mark on the middle slide, 2nd row, 2nd column.\n",
      "Code: (Add Cross2 to B6), Text: In the third turn, player O places their mark on the middle slide, 1st row, 3rd column.\n",
      "Code: (Add Disc1 to C7), Text: In the fourth turn, player X places their mark on the back slide, 2nd row, 2nd column.\n",
      "Code: (Add Cross2 to B2), Text: In the fifth turn, player O places their mark on the front slide, 2nd row, 2nd column.\n",
      "Code: (Add Disc1 to B10), Text: In the sixth turn, player X places their mark on the middle slide, 1st row, 1st column.\n",
      "Code: (Add Cross2 to A7), Text: In the seventh turn, player O places their mark on the middle slide, 3rd row, 3rd column.\n",
      "Code: (Add Disc1 to C5), Text: In the eighth turn, player X places their mark on the back slide, 1st row, 2nd column.\n",
      "Code: (Add Cross2 to B3)]}, {'all_moves': 'In the first turn, player O places their mark on the front slide, 2nd row, 1st column. In the second turn, player X places their mark on the back slide, 1st row, 2nd column. In the third turn, player O places their mark on the middle slide, 2nd row, 2nd column. In the fourth turn, player X places their mark on the middle slide, 1st row, 2nd column. In the fifth turn, player O places their mark on the middle slide, 1st row, 3rd column. In the sixth turn, player X places their mark on the front slide, 1st row, 2nd column.', 'query': 'who wins?', 'query_code': nan, 'answer': 'player X', 'lang_phrase_list': ['In the first turn, player O places their mark on the front slide, 2nd row, 1st column.', 'In the second turn, player X places their mark on the back slide, 1st row, 2nd column.', 'In the third turn, player O places their mark on the middle slide, 2nd row, 2nd column.', 'In the fourth turn, player X places their mark on the middle slide, 1st row, 2nd column.', 'In the fifth turn, player O places their mark on the middle slide, 1st row, 3rd column.', 'In the sixth turn, player X places their mark on the front slide, 1st row, 2nd column.'], 'code_phrase_list': ['(Add Disc1 to A10)', '(Add Cross2 to B3)', '(Add Disc1 to B6)', '(Add Cross2 to B7)', '(Add Disc1 to C7)', '(Add Cross2 to B11)'], 'query_list': [Text: In the first turn, player O places their mark on the front slide, 2nd row, 1st column.\n",
      "Code: (Add Disc1 to A10), Text: In the second turn, player X places their mark on the back slide, 1st row, 2nd column.\n",
      "Code: (Add Cross2 to B3), Text: In the third turn, player O places their mark on the middle slide, 2nd row, 2nd column.\n",
      "Code: (Add Disc1 to B6), Text: In the fourth turn, player X places their mark on the middle slide, 1st row, 2nd column.\n",
      "Code: (Add Cross2 to B7), Text: In the fifth turn, player O places their mark on the middle slide, 1st row, 3rd column.\n",
      "Code: (Add Disc1 to C7), Text: In the sixth turn, player X places their mark on the front slide, 1st row, 2nd column.\n",
      "Code: (Add Cross2 to B11)]}, {'all_moves': 'In the first turn, player O places their mark on the back slide, 3rd row, 1st column. In the second turn, player X places their mark on the back slide, 1st row, 1st column. In the third turn, player O places their mark on the middle slide, 1st row, 3rd column. In the fourth turn, player X places their mark on the back slide, 1st row, 2nd column. In the fifth turn, player O places their mark on the middle slide, 2nd row, 2nd column. In the sixth turn, player X places their mark on the back slide, 1st row, 3rd column.', 'query': 'who wins?', 'query_code': nan, 'answer': 'Player X', 'lang_phrase_list': ['In the first turn, player O places their mark on the back slide, 3rd row, 1st column.', 'In the second turn, player X places their mark on the back slide, 1st row, 1st column.', 'In the third turn, player O places their mark on the middle slide, 1st row, 3rd column', 'In the fourth turn, player X places their mark on the back slide, 1st row, 2nd column.', 'In the fifth turn, player O places their mark on the middle slide, 2nd row, 2nd column.', 'In the sixth turn, player X places their mark on the back slide, 1st row, 3rd column.'], 'code_phrase_list': ['(Add Disc1 to A1)', '(Add Cross2 to A3)', '(Add Disc1 to C7)', '(Add Cross2 to B3)', '(Add Disc1 to B6)', '(Add Cross2 to C3)'], 'query_list': [Text: In the first turn, player O places their mark on the back slide, 3rd row, 1st column.\n",
      "Code: (Add Disc1 to A1), Text: In the second turn, player X places their mark on the back slide, 1st row, 1st column.\n",
      "Code: (Add Cross2 to A3), Text: In the third turn, player O places their mark on the middle slide, 1st row, 3rd column\n",
      "Code: (Add Disc1 to C7), Text: In the fourth turn, player X places their mark on the back slide, 1st row, 2nd column.\n",
      "Code: (Add Cross2 to B3), Text: In the fifth turn, player O places their mark on the middle slide, 2nd row, 2nd column.\n",
      "Code: (Add Disc1 to B6), Text: In the sixth turn, player X places their mark on the back slide, 1st row, 3rd column.\n",
      "Code: (Add Cross2 to C3)]}]\n",
      "[Text: In the first turn, player O places their mark on the front slide, 1st row, 3rd column.\n",
      "Code: (Add Disc1 to C7), Text: In the second turn, player X places their mark on the middle slide, 2nd row, 3rd column.\n",
      "Code: (Add Cross2 to C6), Text: In the third turn, player O places their mark on the back slide, 1st row, 3rd column.\n",
      "Code: (Add Disc1 to C3), Text: In the fourth turn, player X places their mark on the back slide, 2nd row, 2nd column.\n",
      "Code: (Add Cross2 to B2), Text: In the fifth turn, player O places their mark on the middle slide, 1st row, 3rd column.\n",
      "Code: (Add Disc1 to C11)]\n",
      "[{'all_moves': 'Player 1 places their piece on the upper right corner of the outer square. Player 2 places their piece on the middle point of the upper side of the inner square.Player 1 places their piece on the middle point of the right side of the outer square.Player 2 places their piece on the middle point of the lower side of the outer square.Player 1 places their piece on the lower right corner of the outer square.', 'query': \"Player 1 want to capture player 2's piece on the middle point of the upper side of the inner square. Is this a valid move?\", 'query_code': '(Remove C4)', 'answer': 'A valid move', 'lang_phrase_list': ['Player 1 places their piece on the upper right corner of the outer square.', 'Player 2 places their piece on the middle point of the upper side of the inner square.', 'Player 1 places their piece on the middle point of the right side of the outer square.', 'Player 2 places their piece on the middle point of the lower side of the outer square.', 'Player 1 places their piece on the lower right corner of the outer square.'], 'code_phrase_list': ['(Move Cell 16 - Vertex E5)', '(Move Cell 17 - Vertex C4)', '(Move Cell 16 - Vertex E3)', '(Move Cell 17 - Vertex C1)', '(Move Cell 16 - Vertex E1)'], 'query_list': [Text: Player 1 places their piece on the upper right corner of the outer square.\n",
      "Code: (Move Cell 16 - Vertex E5), Text: Player 2 places their piece on the middle point of the upper side of the inner square.\n",
      "Code: (Move Cell 17 - Vertex C4), Text: Player 1 places their piece on the middle point of the right side of the outer square.\n",
      "Code: (Move Cell 16 - Vertex E3), Text: Player 2 places their piece on the middle point of the lower side of the outer square.\n",
      "Code: (Move Cell 17 - Vertex C1), Text: Player 1 places their piece on the lower right corner of the outer square.\n",
      "Code: (Move Cell 16 - Vertex E1)]}, {'all_moves': 'Player 1 places their piece on the upper left corner of the outer square. Player 2 places their piece on the lower left corner of the outer square. Player 1 places their piece on the middle point of the upper side of the inner square. Player 2 places their piece on the lower right corner of the inner square. Player 1 places their piece on the middle point of the left side of the inner square.', 'query': 'Player 2 wants to place their piece on the upper left corner of the outer square. Is this a valid move?', 'query_code': '(Move Cell 17 - Vertex A5)', 'answer': 'An invalid move', 'lang_phrase_list': ['Player 1 places their piece on the upper left corner of the outer square.', 'Player 2 places their piece on the lower left corner of the outer square.', 'Player 1 places their piece on the middle point of the upper side of the inner square.', 'Player 2 places their piece on the lower right corner of the inner square.', 'Player 1 places their piece on the middle point of the left side of the inner square.'], 'code_phrase_list': ['(Move Cell 16 - Vertex A5)', '(Move Cell 17 - Vertex A1)', '(Move Cell 16 - Vertex C4)', '(Move Cell 17 - Vertex D2)', '(Move Cell 16 - Vertex B3)'], 'query_list': [Text: Player 1 places their piece on the upper left corner of the outer square.\n",
      "Code: (Move Cell 16 - Vertex A5), Text: Player 2 places their piece on the lower left corner of the outer square.\n",
      "Code: (Move Cell 17 - Vertex A1), Text: Player 1 places their piece on the middle point of the upper side of the inner square.\n",
      "Code: (Move Cell 16 - Vertex C4), Text: Player 2 places their piece on the lower right corner of the inner square.\n",
      "Code: (Move Cell 17 - Vertex D2), Text: Player 1 places their piece on the middle point of the left side of the inner square.\n",
      "Code: (Move Cell 16 - Vertex B3)]}, {'all_moves': 'Player 1 places their piece on the upper left corner of the outer square. Player 2 places their piece on the lower left corner of the outer square. Player 1 places their piece on the middle point of the upper side of the inner square. Player 2 places their piece on the lower right corner of the inner square. Player 1 places their piece on the middle point of the left side of the inner square.', 'query': 'Player 2 wants to place their piece on the middle point of the right side of the inner square. Is this a valid move?', 'query_code': '(Move Cell 17 - Vertex D3)', 'answer': 'A valid move', 'lang_phrase_list': ['Player 1 places their piece on the upper right corner of the outer square.', 'Player 2 places their piece on the upper right corner of the inner square.', 'Player 1 places their piece on the middle point of the right side of the outer square.', 'Player 2 places their piece on the middle point of the right side of the inner square.', 'Player 1 places their piece on the lower right corner of the outer square.', \"Player 1 captures player 2's piece on the middle point of the right side of the inner square.\"], 'code_phrase_list': ['(Move Cell 16 - Vertex E5)', '(Move Cell 17 - Vertex D4)', '(Move Cell 16 - Vertex E3)', '(Move Cell 17 - Vertex D3)', '(Move Cell 16 - Vertex E1)', '(Remove D3)'], 'query_list': [Text: Player 1 places their piece on the upper right corner of the outer square.\n",
      "Code: (Move Cell 16 - Vertex E5), Text: Player 2 places their piece on the upper right corner of the inner square.\n",
      "Code: (Move Cell 17 - Vertex D4), Text: Player 1 places their piece on the middle point of the right side of the outer square.\n",
      "Code: (Move Cell 16 - Vertex E3), Text: Player 2 places their piece on the middle point of the right side of the inner square.\n",
      "Code: (Move Cell 17 - Vertex D3), Text: Player 1 places their piece on the lower right corner of the outer square.\n",
      "Code: (Move Cell 16 - Vertex E1), Text: Player 1 captures player 2's piece on the middle point of the right side of the inner square.\n",
      "Code: (Remove D3)]}, {'all_moves': 'Player 1 places their piece on the upper right corner of the outer square. Player 2 places their piece on the middle point of the right side of the outer square. Player 1 places their piece on the lower right corner of the outer square. Player 2 places their piece on the upper left corner of the outer square. Player 1 places their piece on the middle point of the lower side of the inner square.Player 2 places their piece on the upper right corner of the inner square.Player 1 places their piece on the lower left corner of the outer square.Player 2 places their piece on the middle point of the lower side of the outer square.Player 1 places their piece on the middle point of the upper side of the outer square.Player 2 places their piece on the lower right corner of the inner square.Player 1 places their piece on the upper left corner of the inner square.Player 2 places their piece on the middle point of the left side of the outer square.Player 1 moves their piece from the upper left corner of the inner square to the middle point of the left side of the inner square.', 'query': 'Player 2 want to moves their piece from the middle point of the right side of the outer square to the middle point of the right side of the inner square. Is this a valid move?', 'query_code': '(Move E3-D3)', 'answer': 'A valid move', 'lang_phrase_list': ['Player 1 places their piece on the upper right corner of the outer square.', 'Player 2 places their piece on the middle point of the right side of the outer square.', 'Player 1 places their piece on the lower right corner of the outer square.', 'Player 2 places their piece on the upper left corner of the outer square.', 'Player 1 places their piece on the middle point of the lower side of the inner square.', 'Player 2 places their piece on the upper right corner of the inner square.', 'Player 1 places their piece on the lower left corner of the outer square.', 'Player 2 places their piece on the middle point of the lower side of the outer square.'], 'code_phrase_list': ['(Move Cell 16 - Vertex E5)', '(Move Cell 17 - Vertex E3)', '(Move Cell 16 - Vertex E1)', '(Move Cell 17 - Vertex A5)', '(Move Cell 16 - Vertex C2)', '(Move Cell 17 - Vertex D4)', '(Move Cell 16 - Vertex A1)', '(Move Cell 17 - Vertex C1)'], 'query_list': [Text: Player 1 places their piece on the upper right corner of the outer square.\n",
      "Code: (Move Cell 16 - Vertex E5), Text: Player 2 places their piece on the middle point of the right side of the outer square.\n",
      "Code: (Move Cell 17 - Vertex E3), Text: Player 1 places their piece on the lower right corner of the outer square.\n",
      "Code: (Move Cell 16 - Vertex E1), Text: Player 2 places their piece on the upper left corner of the outer square.\n",
      "Code: (Move Cell 17 - Vertex A5), Text: Player 1 places their piece on the middle point of the lower side of the inner square.\n",
      "Code: (Move Cell 16 - Vertex C2), Text: Player 2 places their piece on the upper right corner of the inner square.\n",
      "Code: (Move Cell 17 - Vertex D4), Text: Player 1 places their piece on the lower left corner of the outer square.\n",
      "Code: (Move Cell 16 - Vertex A1), Text: Player 2 places their piece on the middle point of the lower side of the outer square.\n",
      "Code: (Move Cell 17 - Vertex C1)]}]\n",
      "[Text: Player 1 places their piece on the upper right corner of the outer square.\n",
      "Code: (Move Cell 16 - Vertex E5), Text: Player 2 places their piece on the middle point of the upper side of the inner square.\n",
      "Code: (Move Cell 17 - Vertex C4), Text: Player 1 places their piece on the middle point of the right side of the outer square.\n",
      "Code: (Move Cell 16 - Vertex E3), Text: Player 2 places their piece on the middle point of the lower side of the outer square.\n",
      "Code: (Move Cell 17 - Vertex C1), Text: Player 1 places their piece on the lower right corner of the outer square.\n",
      "Code: (Move Cell 16 - Vertex E1)]\n"
     ]
    }
   ],
   "source": [
    "for g in load_query_games():\n",
    "    print(g.tasks)\n",
    "    print(g.tasks[0]['query_list'])"
   ]
  },
  {
   "cell_type": "code",
   "execution_count": null,
   "metadata": {},
   "outputs": [],
   "source": []
  }
 ],
 "metadata": {
  "kernelspec": {
   "display_name": "jlab813env",
   "language": "python",
   "name": "python3"
  },
  "language_info": {
   "codemirror_mode": {
    "name": "ipython",
    "version": 3
   },
   "file_extension": ".py",
   "mimetype": "text/x-python",
   "name": "python",
   "nbconvert_exporter": "python",
   "pygments_lexer": "ipython3",
   "version": "3.11.0"
  }
 },
 "nbformat": 4,
 "nbformat_minor": 2
}
