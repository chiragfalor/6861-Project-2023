{
 "cells": [
  {
   "cell_type": "code",
   "execution_count": 1,
   "metadata": {},
   "outputs": [],
   "source": [
    "# read descriptions from json file\n",
    "\n",
    "import json\n",
    "import pandas as pd\n",
    "from GameModel import GameModel\n",
    "\n",
    "# read json file\n",
    "with open('data/game_desc.json') as f:\n",
    "    data = json.load(f)"
   ]
  },
  {
   "cell_type": "code",
   "execution_count": null,
   "metadata": {},
   "outputs": [],
   "source": []
  },
  {
   "cell_type": "code",
   "execution_count": 2,
   "metadata": {},
   "outputs": [],
   "source": [
    "games = []\n",
    "for game in data['game_descriptions']:\n",
    "    game_code_path = game['ppl_code_file_path']\n",
    "    # load description\n",
    "    with open(f'data/{game_code_path}') as f:\n",
    "        code = f.read()\n",
    "    games.append(GameModel(game['name'], game['description'], code))\n",
    "\n",
    "    "
   ]
  },
  {
   "cell_type": "code",
   "execution_count": 3,
   "metadata": {},
   "outputs": [
    {
     "data": {
      "text/plain": [
       "[Name: Tic Tac Toe\n",
       " Description: Tic Tac Toe is a game for two players, X and O, who take turns marking the spaces in a 3x3 grid. The player who succeeds in placing three of their marks in a horizontal, vertical, or diagonal row wins the game.\n",
       " Code: var isValidMove = function(state, move) {\n",
       "     return state[move.x][move.y] === '?';\n",
       "   };\n",
       "   \n",
       " var movePrior = dp.cache(function(state){\n",
       " return Infer({ model() {\n",
       "     var move = {\n",
       "     x: randomInteger(3),\n",
       "     y: randomInteger(3)\n",
       "     };\n",
       "     condition(isValidMove(state, move));\n",
       "     return move;\n",
       " }});\n",
       " });\n",
       " \n",
       " var assign = function(obj, k, v) {\n",
       " var newObj = _.clone(obj);\n",
       " return Object.defineProperty(newObj, k, {value: v})\n",
       " };\n",
       " \n",
       " var transition = function(state, move, player) {\n",
       " var newRow = assign(state[move.x], move.y, player);\n",
       " return assign(state, move.x, newRow);\n",
       " };\n",
       " \n",
       " var diag1 = function(state) {\n",
       " return mapIndexed(function(i, x) {return x[i];}, state);\n",
       " };\n",
       " \n",
       " var diag2 = function(state) {\n",
       " var n = state.length;\n",
       " return mapIndexed(function(i, x) {return x[n - (i + 1)];}, state);\n",
       " };\n",
       " \n",
       " var hasWon = dp.cache(function(state, player) {\n",
       " var check = function(xs){\n",
       "     return _.countBy(xs)[player] == xs.length;\n",
       " };\n",
       " return any(check, [\n",
       "     state[0], state[1], state[2], // rows\n",
       "     map(first, state), map(second, state), map(third, state), // cols\n",
       "     diag1(state), diag2(state) // diagonals\n",
       " ]);\n",
       " });\n",
       " ///\n",
       " var isDraw = function(state) {\n",
       " return !hasWon(state, 'x') && !hasWon(state, 'o');\n",
       " };,\n",
       " Name: dummy2\n",
       " Description: dummy2\n",
       " Code: ]"
      ]
     },
     "execution_count": 3,
     "metadata": {},
     "output_type": "execute_result"
    }
   ],
   "source": [
    "games"
   ]
  },
  {
   "cell_type": "code",
   "execution_count": null,
   "metadata": {},
   "outputs": [],
   "source": []
  }
 ],
 "metadata": {
  "kernelspec": {
   "display_name": "jlab813env",
   "language": "python",
   "name": "python3"
  },
  "language_info": {
   "codemirror_mode": {
    "name": "ipython",
    "version": 3
   },
   "file_extension": ".py",
   "mimetype": "text/x-python",
   "name": "python",
   "nbconvert_exporter": "python",
   "pygments_lexer": "ipython3",
   "version": "3.11.0"
  }
 },
 "nbformat": 4,
 "nbformat_minor": 2
}
