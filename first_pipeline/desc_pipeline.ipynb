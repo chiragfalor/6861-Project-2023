{
 "cells": [
  {
   "cell_type": "code",
   "execution_count": 1,
   "metadata": {},
   "outputs": [],
   "source": [
    "from data_load import load_games, load_query_games\n",
    "from utils import get_message_with_example, get_response, get_message_with_example_and_function_defn, get_fn_defn, GPT_model\n",
    "import os"
   ]
  },
  {
   "cell_type": "code",
   "execution_count": 2,
   "metadata": {},
   "outputs": [],
   "source": [
    "games = load_games()"
   ]
  },
  {
   "cell_type": "code",
   "execution_count": 3,
   "metadata": {},
   "outputs": [
    {
     "name": "stdout",
     "output_type": "stream",
     "text": [
      "Name: Epelle\n",
      "Description: 3x3 intersecting lines with diagonals. Play occurs on the intersections of the lines. Players each have three pieces, initially placed on the sides closest to the player. Players move the pieces to an adjacent unoccupied intersection along the lines. The goal is to make three in a row which cannot be in the starting position.\n",
      "Code: (define \"NotAllPieceInHome\" (not (all Sites (sites Occupied by:Mover) if:(is In (site) (sites Mover)))))\n",
      "\n",
      "//------------------------------------------------------------------------------\n",
      "\n",
      "(game \"Epelle\"\n",
      "    (players 2) \n",
      "    (equipment { \n",
      "        (\"AlquerqueBoard\" 3)\n",
      "        (piece \"Marker\" Each \"StepToEmpty\")\n",
      "        (regions P1 (sites Bottom))\n",
      "        (regions P2 (sites Top))\n",
      "    }) \n",
      "    (rules \n",
      "        (start { \n",
      "            (place \"Marker1\" (sites P1)) \n",
      "            (place \"Marker2\" (sites P2)) \n",
      "        })\n",
      "        (play (forEach Piece))\n",
      "        \n",
      "        (end \n",
      "            (if \n",
      "                (and \n",
      "                    \"NotAllPieceInHome\"\n",
      "                    (is Line 3)\n",
      "                ) \n",
      "                (result Mover Win)\n",
      "            )\n",
      "        ) \n",
      "    )\n",
      ")\n"
     ]
    }
   ],
   "source": [
    "import random\n",
    "random.seed(40)\n",
    "\n",
    "random_game_id = random.randint(0, len(games) - 1)\n",
    "random_game = games[random_game_id]\n",
    "\n",
    "other_games = games[:random_game_id] + games[random_game_id + 1:]\n",
    "\n",
    "# choose 9 examples from other games\n",
    "examples = random.sample(other_games, 9)\n",
    "\n",
    "print(random_game)\n"
   ]
  },
  {
   "cell_type": "code",
   "execution_count": 5,
   "metadata": {},
   "outputs": [],
   "source": [
    "# predicted_code = get_response(get_message_with_example,random_game, examples)\n",
    "predicted_code = get_fn_defn(random_game.code) + get_response(get_message_with_example_and_function_defn,random_game, examples)\n",
    "actual_code = random_game.code"
   ]
  },
  {
   "cell_type": "code",
   "execution_count": 6,
   "metadata": {},
   "outputs": [
    {
     "name": "stdout",
     "output_type": "stream",
     "text": [
      "Predicted code: (define \"NotAllPieceInHome\" (not (all Sites (sites Occupied by:Mover) if:(is In (site) (sites Mover)))))\n",
      "\n",
      "(game \"Epelle\"\n",
      "    (players 2) \n",
      "    (equipment {\n",
      "        (\"AlquerqueBoard\" 3 3)\n",
      "        (piece \"Marker\" Each (\"StepToEmpty\" ~ (then (\"If\" \"NotAllPieceInHome\" (\"ReplayIfLine3\")))))\n",
      "    })  \n",
      "    (rules \n",
      "        (start {\n",
      "            (place \"Marker1\" (sites Bottom))\n",
      "            (place \"Marker2\" (sites Top))\n",
      "        })\n",
      "        (play (forEach Piece))\n",
      "        (end (\"Line3Win\" Mover \"NotAllPieceInHome\"))\n",
      "    )\n",
      ")\n",
      "Actual code: (define \"NotAllPieceInHome\" (not (all Sites (sites Occupied by:Mover) if:(is In (site) (sites Mover)))))\n",
      "\n",
      "//------------------------------------------------------------------------------\n",
      "\n",
      "(game \"Epelle\"\n",
      "    (players 2) \n",
      "    (equipment { \n",
      "        (\"AlquerqueBoard\" 3)\n",
      "        (piece \"Marker\" Each \"StepToEmpty\")\n",
      "        (regions P1 (sites Bottom))\n",
      "        (regions P2 (sites Top))\n",
      "    }) \n",
      "    (rules \n",
      "        (start { \n",
      "            (place \"Marker1\" (sites P1)) \n",
      "            (place \"Marker2\" (sites P2)) \n",
      "        })\n",
      "        (play (forEach Piece))\n",
      "        \n",
      "        (end \n",
      "            (if \n",
      "                (and \n",
      "                    \"NotAllPieceInHome\"\n",
      "                    (is Line 3)\n",
      "                ) \n",
      "                (result Mover Win)\n",
      "            )\n",
      "        ) \n",
      "    )\n",
      ")\n"
     ]
    }
   ],
   "source": [
    "\n",
    "print(\"Predicted code:\", predicted_code)\n",
    "print(\"Actual code:\", actual_code)"
   ]
  },
  {
   "cell_type": "code",
   "execution_count": 12,
   "metadata": {},
   "outputs": [],
   "source": [
    "# for each game, save the predicted code in predicted_codes directory\n",
    "dir_path = f'{GPT_model}_predictions/descriptions'\n",
    "if not os.path.exists(dir_path):\n",
    "    os.makedirs(dir_path)\n",
    "for i in range(len(games)):\n",
    "    game = games[i]\n",
    "    print(f\"Processing game {game.tag}\")\n",
    "    other_games = games[:i] + games[i + 1:]\n",
    "    examples = random.sample(other_games, 9)\n",
    "    predicted_code = get_response(get_message_with_example, game, examples)\n",
    "    save_path =  f'{dir_path}/{game.tag}.txt'\n",
    "    # make new file with predicted code\n",
    "    with open(save_path, 'w') as f:\n",
    "        f.write(predicted_code)"
   ]
  }
 ],
 "metadata": {
  "kernelspec": {
   "display_name": "Python 3.10.7 64-bit",
   "language": "python",
   "name": "python3"
  },
  "language_info": {
   "codemirror_mode": {
    "name": "ipython",
    "version": 3
   },
   "file_extension": ".py",
   "mimetype": "text/x-python",
   "name": "python",
   "nbconvert_exporter": "python",
   "pygments_lexer": "ipython3",
   "version": "3.10.7"
  },
  "vscode": {
   "interpreter": {
    "hash": "aee8b7b246df8f9039afb4144a1f6fd8d2ca17a180786b69acc140d282b71a49"
   }
  }
 },
 "nbformat": 4,
 "nbformat_minor": 2
}
